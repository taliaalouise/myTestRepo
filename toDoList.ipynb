{
 "cells": [
  {
   "cell_type": "markdown",
   "metadata": {},
   "source": [
    "## write a program that allows a user to add to a to-do list "
   ]
  },
  {
   "cell_type": "code",
   "execution_count": 1,
   "metadata": {},
   "outputs": [],
   "source": [
    "todoList = [] # start with an empty list "
   ]
  },
  {
   "cell_type": "code",
   "execution_count": 2,
   "metadata": {},
   "outputs": [
    {
     "name": "stdout",
     "output_type": "stream",
     "text": [
      "[]\n"
     ]
    }
   ],
   "source": [
    "print(todoList)"
   ]
  },
  {
   "cell_type": "code",
   "execution_count": 5,
   "metadata": {},
   "outputs": [
    {
     "name": "stdout",
     "output_type": "stream",
     "text": [
      "Please enter a task, press (x) to exit: tidy room \n",
      "['tidy room ']\n",
      "Please enter a task, press (x) to exit: feed dog at 12\n",
      "['tidy room ', 'feed dog at 12']\n",
      "Please enter a task, press (x) to exit: feed cat at 2\n",
      "['tidy room ', 'feed dog at 12', 'feed cat at 2']\n",
      "Please enter a task, press (x) to exit: go shopping at 3\n",
      "['tidy room ', 'feed dog at 12', 'feed cat at 2', 'go shopping at 3']\n",
      "Please enter a task, press (x) to exit: x\n",
      "['tidy room ', 'feed dog at 12', 'feed cat at 2', 'go shopping at 3']\n",
      "You are done, here is your final list:  ['tidy room ', 'feed dog at 12', 'feed cat at 2', 'go shopping at 3']\n"
     ]
    }
   ],
   "source": [
    "# ask the user for a task, add it to the list, print list out \n",
    "# initialise the loop variable\n",
    "\n",
    "task = \"\" # this is an empty string, its NOT an x, so the loop will execute at least once\n",
    "\n",
    "while (task != \"x\") : \n",
    "    task = input(\"Please enter a task, press (x) to exit: \").lower()\n",
    "    if task != \"x\":\n",
    "        todoList.append(task) # the append method adds a new task to the end of the list\n",
    "    print(todoList)\n",
    "\n",
    "print(\"You are done, here is your final list: \",todoList)"
   ]
  },
  {
   "cell_type": "code",
   "execution_count": null,
   "metadata": {},
   "outputs": [],
   "source": []
  }
 ],
 "metadata": {
  "kernelspec": {
   "display_name": "Python 3",
   "language": "python",
   "name": "python3"
  },
  "language_info": {
   "codemirror_mode": {
    "name": "ipython",
    "version": 3
   },
   "file_extension": ".py",
   "mimetype": "text/x-python",
   "name": "python",
   "nbconvert_exporter": "python",
   "pygments_lexer": "ipython3",
   "version": "3.5.2"
  }
 },
 "nbformat": 4,
 "nbformat_minor": 2
}
