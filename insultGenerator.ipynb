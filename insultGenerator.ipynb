{
 "cells": [
  {
   "cell_type": "markdown",
   "metadata": {},
   "source": [
    "## This is a test notebook \n",
    "\n",
    "write an INSULT generator program\n",
    "\n",
    "adj adj noun \n",
    "\n",
    "\n",
    "stupid smelly frog\n",
    "\n",
    "\n",
    "bald ugly cow\n",
    "\n"
   ]
  },
  {
   "cell_type": "code",
   "execution_count": 1,
   "metadata": {},
   "outputs": [],
   "source": [
    "adj1List = [\"smelly\", \"ugly\", \"whiney\", \"hairy\", \"silly\"]\n",
    "adj2List = [\"boring\", \"lame\", \"slimey\", \"odourous\", \"oily\"]\n",
    "nounList= [\"frog\", \"potato\", \"onion\", \"snake\", \"buffalo\"]"
   ]
  },
  {
   "cell_type": "code",
   "execution_count": 9,
   "metadata": {},
   "outputs": [
    {
     "name": "stdout",
     "output_type": "stream",
     "text": [
      "You are a ugly odourous potato\n",
      "You are a whiney boring potato\n",
      "You are a ugly oily onion\n",
      "You are a hairy lame potato\n",
      "You are a hairy lame buffalo\n",
      "You are a hairy lame potato\n",
      "You are a smelly odourous onion\n",
      "You are a hairy boring frog\n",
      "You are a smelly oily potato\n",
      "You are a whiney lame onion\n",
      "9 You are a smelly lame onion\n"
     ]
    }
   ],
   "source": [
    "import random # this is the module that does all the random calculations and stuff in python\n",
    "\n",
    "for i in range(10):\n",
    "# choose one word randomly from the lists:\n",
    "    word1=random.choice(adj1List)\n",
    "    word2=random.choice(adj2List)\n",
    "    word3=random.choice(nounList)\n",
    "\n",
    "    print(\"You are a\", word1, word2, word3)\n",
    "    \n",
    "# a different method - choose a random integer \n",
    "x = random.randint(0, len(adj1List)-1)\n",
    "y = random.randint(0, len(adj2List)-1)\n",
    "z = random.randint(0, len(nounList)-1)\n",
    "\n",
    "print(i, \"You are a\",adj1List[x], adj2List[y], nounList[z])"
   ]
  },
  {
   "cell_type": "code",
   "execution_count": null,
   "metadata": {},
   "outputs": [],
   "source": []
  }
 ],
 "metadata": {
  "kernelspec": {
   "display_name": "Python 3",
   "language": "python",
   "name": "python3"
  },
  "language_info": {
   "codemirror_mode": {
    "name": "ipython",
    "version": 3
   },
   "file_extension": ".py",
   "mimetype": "text/x-python",
   "name": "python",
   "nbconvert_exporter": "python",
   "pygments_lexer": "ipython3",
   "version": "3.5.2"
  }
 },
 "nbformat": 4,
 "nbformat_minor": 2
}
